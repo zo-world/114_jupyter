{
 "cells": [
  {
   "cell_type": "code",
   "execution_count": 1,
   "id": "5449f6cf",
   "metadata": {},
   "outputs": [],
   "source": [
    "# Simplified Stack Implementation\n",
    "\n",
    "class Stack:\n",
    "    def __init__(self):\n",
    "        self.items = []\n",
    "        \n",
    "    def push(self, element):\n",
    "        self.items.append(element)\n",
    "    \n",
    "    def pop(self):\n",
    "        return self.items.pop()\n",
    "    \n",
    "    # nice to have methods:\n",
    "    def size(self):\n",
    "        return len(self.items)\n",
    "    \n",
    "    def peek(self):\n",
    "        return self.items[len(self.items)-1]\n",
    "    \n",
    "    def is_empty(self):\n",
    "        return self.items == []"
   ]
  },
  {
   "cell_type": "code",
   "execution_count": 2,
   "id": "b2029e87",
   "metadata": {},
   "outputs": [],
   "source": [
    "# 1, 2, 3, 4, 5\n",
    "# feed these sequentially into a stack\n",
    "# then, immediately retrieve all of them via pop\n",
    "# you will get back 5, 4, 3, 2, 1"
   ]
  },
  {
   "cell_type": "markdown",
   "id": "c637f4f1",
   "metadata": {},
   "source": [
    "# Mini Challenge 1\n",
    "Create a function that uses a stack(our stack class above) to invert a string.\n",
    "\n",
    "Your function must be called `invert_str` and receive a single string as a parameter, then return that string in inverted order.\n",
    "\n",
    "```\n",
    "Examples:\n",
    "rafael -> leafar\n",
    "rats -> star\n",
    "cars ->srac\n",
    "etc\n",
    "```\n"
   ]
  },
  {
   "cell_type": "code",
   "execution_count": 18,
   "id": "cb0f66c7",
   "metadata": {},
   "outputs": [],
   "source": [
    "# Create invert_str fuction that takes str parameter\n",
    "# Create an instance of the Stack class named newStack\n",
    "# Loop through each character in str and push each char to newStack\n",
    "# create an empty string called newStr\n",
    "# use while loop to\n",
    "# use pop method to remove chars from newStack list and add them to newStr\n",
    "# return newStr"
   ]
  },
  {
   "cell_type": "code",
   "execution_count": 27,
   "id": "878c06c0",
   "metadata": {},
   "outputs": [
    {
     "data": {
      "text/plain": [
       "'hsiery'"
      ]
     },
     "execution_count": 27,
     "metadata": {},
     "output_type": "execute_result"
    }
   ],
   "source": [
    "def invert_str(mystr):\n",
    "    stack = Stack()\n",
    "    out = \"\"\n",
    "    for char in mystr:\n",
    "        stack.push(char)\n",
    "    while not stack.is_empty():\n",
    "        out += stack.pop()\n",
    "    return out\n",
    "    \n",
    "invert_str(\"yreish\")"
   ]
  },
  {
   "cell_type": "code",
   "execution_count": 33,
   "id": "acb6ac7e",
   "metadata": {},
   "outputs": [
    {
     "name": "stdout",
     "output_type": "stream",
     "text": [
      "6\n"
     ]
    }
   ],
   "source": [
    "# Examples of pass by value\n",
    "# Note: promary data types pass by value in python\n",
    "# Integers, float and booleans.\n",
    "x = 5\n",
    "y = x\n",
    "\n",
    "y += 1\n",
    "\n",
    "print(y)"
   ]
  },
  {
   "cell_type": "code",
   "execution_count": 31,
   "id": "6c6cf999",
   "metadata": {},
   "outputs": [
    {
     "name": "stdout",
     "output_type": "stream",
     "text": [
      "[1, 2, 3, 4]\n"
     ]
    }
   ],
   "source": [
    "# Examples of pass by refence\n",
    "# Note: Every other data type in python passes by reference\n",
    "x = [1, 2, 3]\n",
    "y = x\n",
    "\n",
    "y.append(4)\n",
    "\n",
    "print(x)"
   ]
  },
  {
   "cell_type": "code",
   "execution_count": 34,
   "id": "389b1fa1",
   "metadata": {},
   "outputs": [],
   "source": [
    "# Implementation that does not depend on built-in data structures\n"
   ]
  },
  {
   "cell_type": "code",
   "execution_count": 37,
   "id": "62345bdc",
   "metadata": {},
   "outputs": [],
   "source": [
    "class Stack:\n",
    "    class __Node:\n",
    "        def __init__(self, data):\n",
    "            self.data = data\n",
    "            self.below = None\n",
    "    def __init__(self):\n",
    "        self.top = None\n",
    "        \n",
    "    def push(self, element):\n",
    "        new_node = self.__Node(element)\n",
    "        if not self.top:\n",
    "            self.top = new_node\n",
    "        else:\n",
    "            new_node.below= self.top\n",
    "            self.top = new_node\n",
    "            \n",
    "    def pop(self):\n",
    "        if self.top:\n",
    "            element = self.top.data\n",
    "            self.top = self.top.below\n",
    "            return element\n",
    "        raise IndexError(\"Empty stack\")\n",
    "        \n",
    "    def is_empty(self):\n",
    "        return self.top == None\n",
    "    \n",
    "    def __str__(self):\n",
    "        out = \"\"\n",
    "        current = self.top\n",
    "        while current:\n",
    "            out += \"| %s |\\n\" % current.data\n",
    "            current = current.below\n",
    "        out += \"____\\t\"\n",
    "        return out\n",
    "    \n",
    "    # Three more methods:\n",
    "    \n",
    "    def size(self):\n",
    "        # should return the total amount of elements in our stack\n",
    "        # find length of char in stack by calling len on func\n",
    "        # call return on the top of the stack\n",
    "        # test\n",
    "        current = self.top\n",
    "        count = 0\n",
    "        while current:\n",
    "            count += 1\n",
    "        return count\n",
    "    \n",
    "    def peek(self):\n",
    "        # this should return the value or element at the top, without removing the (top) node\n",
    "        # call return, on `self.top` append its data `self.top.data`.\n",
    "        # test, should display contents currently on stack\n",
    "        return self.top.data\n",
    "    \n",
    "    def search(self, element):\n",
    "        # This should return True if the element is somewhere in the stack, False otherwise\n",
    "        # Use find(\"on string being searched for\") on self.top\n",
    "        # if found return True\n",
    "        # otherwise return False\n",
    "        \n",
    "        current = self.top\n",
    "        while current:\n",
    "            if element == current.data:\n",
    "                return True\n",
    "        return False"
   ]
  },
  {
   "cell_type": "code",
   "execution_count": null,
   "id": "26f23daa",
   "metadata": {},
   "outputs": [],
   "source": [
    "# Implementation that does not depend on built-in data structures (list)\n",
    "\n",
    "class Queue:\n",
    "    def __init__(self):\n",
    "        self.items = []\n",
    "        \n",
    "    def enqueue(self, elements):\n",
    "        self.items.insert(0, element)\n",
    "    \n",
    "    def dequeue(self):\n",
    "        return self.items.pop()\n",
    "    \n",
    "    # nice to have methods:\n",
    "    \n",
    "    def size(self):\n",
    "        return len(self.items)\n",
    "    \n",
    "    def peek(self):\n",
    "        return self.items[len(self.items)-1]\n",
    "    \n",
    "    def is_empty(self):\n",
    "        return self.items == []"
   ]
  }
 ],
 "metadata": {
  "kernelspec": {
   "display_name": "Python 3 (ipykernel)",
   "language": "python",
   "name": "python3"
  },
  "language_info": {
   "codemirror_mode": {
    "name": "ipython",
    "version": 3
   },
   "file_extension": ".py",
   "mimetype": "text/x-python",
   "name": "python",
   "nbconvert_exporter": "python",
   "pygments_lexer": "ipython3",
   "version": "3.11.4"
  }
 },
 "nbformat": 4,
 "nbformat_minor": 5
}
