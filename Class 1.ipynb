{
 "cells": [
  {
   "cell_type": "code",
   "execution_count": 1,
   "id": "36491c17",
   "metadata": {},
   "outputs": [
    {
     "name": "stdout",
     "output_type": "stream",
     "text": [
      "h\n",
      "e\n",
      "l\n",
      "l\n",
      "o\n",
      " \n",
      "w\n",
      "o\n",
      "r\n",
      "l\n",
      "d\n"
     ]
    }
   ],
   "source": [
    "for letter in \"hello world\":\n",
    "    print(letter)"
   ]
  },
  {
   "cell_type": "markdown",
   "id": "e4c5596c",
   "metadata": {},
   "source": [
    "# Anagram Checker\n",
    "\n",
    "Given two settings, create a function that determines if these are anagrams of each other. Your function should return `True` if these are anagrams of each other, `False` otherwise.\n",
    "\n",
    "*Criteria*\n",
    "\n",
    "1. Two strings are anagrams of each other if, and only if:\n",
    "    1. They use all the same letters the same amount of times.\n",
    "    2. They are exactly the same length.\n",
    "2. Your function should be called `anagram_check` and must receive two parameters (strings).\n",
    "\n",
    "```\n",
    "Examples:\n",
    "heart and earth\n",
    "cars and scar\n",
    "star and rats\n",
    "```"
   ]
  },
  {
   "cell_type": "code",
   "execution_count": 5,
   "id": "178923e8",
   "metadata": {},
   "outputs": [
    {
     "name": "stdout",
     "output_type": "stream",
     "text": [
      "\n",
      " A  B  C  D  E \n",
      " F  G  H  I  J \n",
      " K  L  M  N  O \n",
      " P  Q  R  S  T \n",
      " U  V  W  X  Y \n",
      " Z \n"
     ]
    }
   ],
   "source": [
    "# create my funtion \"anagram_check\"\n",
    "out = \"\"\n",
    "for char in range(65, (65+26)):\n",
    "    if char%5 == 0:\n",
    "        out += \"\\n\"\n",
    "    out += \" %s \" % chr(char)\n",
    "print(out)"
   ]
  },
  {
   "cell_type": "code",
   "execution_count": null,
   "id": "1b6fa6c2",
   "metadata": {},
   "outputs": [],
   "source": []
  }
 ],
 "metadata": {
  "kernelspec": {
   "display_name": "Python 3 (ipykernel)",
   "language": "python",
   "name": "python3"
  },
  "language_info": {
   "codemirror_mode": {
    "name": "ipython",
    "version": 3
   },
   "file_extension": ".py",
   "mimetype": "text/x-python",
   "name": "python",
   "nbconvert_exporter": "python",
   "pygments_lexer": "ipython3",
   "version": "3.11.4"
  }
 },
 "nbformat": 4,
 "nbformat_minor": 5
}
