{
 "cells": [
  {
   "cell_type": "code",
   "execution_count": 9,
   "id": "ddf5f9ab",
   "metadata": {},
   "outputs": [],
   "source": [
    "class DoublyLinkedList:\n",
    "    class Node__:\n",
    "        def __init__(self, data):\n",
    "            self.data = data\n",
    "            self.next = None\n",
    "            self.prev = None\n",
    "            \n",
    "    def __init__(self):\n",
    "        self.head = None\n",
    "        \n",
    "    def append(self, element):\n",
    "        new_node = self.Node__(element)\n",
    "        if not self.head:\n",
    "            self.head = new_node\n",
    "        else:\n",
    "            current = self.head\n",
    "            while current.next:\n",
    "                current = current.next\n",
    "            current.next = new_node\n",
    "            new_node.prev = current\n",
    "    \n",
    "    def insert(self, index, element):\n",
    "        if index < 0:\n",
    "            raise ValueError(\"Invalid Index\")\n",
    "            \n",
    "        new_node.next = self.head\n",
    "        self.head = new_node\n",
    "        else:\n",
    "            current = self.head\n",
    "            counter = 0\n",
    "            while current and index  != counter:\n",
    "                previous = current\n",
    "                current = current.next\n",
    "                counter += 1\n",
    "                \n",
    "            new_node.next = current\n",
    "            previous.next = new_node\n",
    "            new_node.prev = previous\n",
    "            current.prev = new_node\n",
    "    \n",
    "    def remove(self, element):\n",
    "        if not self.head:\n",
    "            raise ValueError(\"List is Empty\")\n",
    "        if self.head.data == value:\n",
    "            self.head = self.head.next\n",
    "        else:\n",
    "            current = self.head\n",
    "            previous = None\n",
    "            while current:\n",
    "                if current.data == value:\n",
    "                    previous.next = current.next\n",
    "                else:\n",
    "                    previous = current\n",
    "                    current = current.next\n",
    "        raise ValueError(\"Value not found in current list\")\n",
    "        "
   ]
  },
  {
   "cell_type": "code",
   "execution_count": 10,
   "id": "73460262",
   "metadata": {},
   "outputs": [],
   "source": [
    "# Pseudocode for append (method)\n",
    "\n",
    "# define method \"append\" with parameter \"element\":\n",
    "#    new_node = new Node instance with \"element\" as data\n",
    "#    if self.head is set to None:\n",
    "#        then set self.head to new_node\n",
    "#    otherwise:\n",
    "#        current = self.head\n",
    "#        // loop until there is no next node\n",
    "#        do:\n",
    "#            current = current.next\n",
    "#        while current.next is not None\n",
    "#            current.next = new_node\n",
    "#            new_node.prev = current"
   ]
  },
  {
   "cell_type": "code",
   "execution_count": 13,
   "id": "d6f42965",
   "metadata": {},
   "outputs": [
    {
     "name": "stdout",
     "output_type": "stream",
     "text": [
      "Empty lists:\n",
      "<__main__.DoublyLinkedList object at 0x7fd9505febd0>\n",
      "[]\n",
      "Lists with one element:\n",
      "<__main__.DoublyLinkedList object at 0x7fd9505febd0>\n",
      "[5, 2]\n"
     ]
    }
   ],
   "source": [
    "dll = DoublyLinkedList()\n",
    "python_list = []\n",
    "\n",
    "print(\"Empty lists:\")\n",
    "print(dll)\n",
    "print(python_list)\n",
    "    \n",
    "print(\"Lists with one element:\")\n",
    "dll.append(1)\n",
    "print(dll)\n",
    "\n",
    "python_list.append(5)\n",
    "python_list.append(2)\n",
    "print(python_list)"
   ]
  },
  {
   "cell_type": "markdown",
   "id": "1e7c7608",
   "metadata": {},
   "source": [
    "Recursion"
   ]
  },
  {
   "cell_type": "code",
   "execution_count": 1,
   "id": "dd920c27",
   "metadata": {},
   "outputs": [],
   "source": [
    "# simple example\n",
    "\n",
    "def fact(num):\n",
    "    if num == 0:\n",
    "        return 1\n",
    "    \n",
    "    return num*fact(num-1)"
   ]
  },
  {
   "cell_type": "code",
   "execution_count": 6,
   "id": "52b501fb",
   "metadata": {},
   "outputs": [
    {
     "data": {
      "text/plain": [
       "120"
      ]
     },
     "execution_count": 6,
     "metadata": {},
     "output_type": "execute_result"
    }
   ],
   "source": [
    "fact(5)"
   ]
  },
  {
   "cell_type": "code",
   "execution_count": 8,
   "id": "484b819f",
   "metadata": {},
   "outputs": [
    {
     "name": "stdout",
     "output_type": "stream",
     "text": [
      "8\n",
      "7\n",
      "6\n",
      "5\n",
      "4\n",
      "3\n",
      "2\n",
      "2\n",
      "3\n",
      "2\n",
      "4\n",
      "3\n",
      "2\n",
      "2\n",
      "5\n",
      "4\n",
      "3\n",
      "2\n",
      "2\n",
      "3\n",
      "2\n",
      "6\n",
      "5\n",
      "4\n",
      "3\n",
      "2\n",
      "2\n",
      "3\n",
      "2\n",
      "4\n",
      "3\n",
      "2\n",
      "2\n"
     ]
    },
    {
     "data": {
      "text/plain": [
       "21"
      ]
     },
     "execution_count": 8,
     "metadata": {},
     "output_type": "execute_result"
    }
   ],
   "source": [
    "def fib(num):\n",
    "    if num < 2:          # base case (which is our exit condition but also an absolute truth)\n",
    "        return num\n",
    "    print(num)\n",
    "    return fib(num-1) + fib(num-2)      # recursive case\n",
    "\n",
    "fib(8)"
   ]
  },
  {
   "cell_type": "code",
   "execution_count": 10,
   "id": "06285ddf",
   "metadata": {},
   "outputs": [],
   "source": [
    "class HashTable:\n",
    "    def __init__(self, size):\n",
    "        self.size = size\n",
    "        self.slots = [None] * self.size\n",
    "        self.data = [None] * self.size\n",
    "        \n",
    "    def put(self, key, data):\n",
    "        hashvalue = self.hashfunction(key, len(self.slots))\n",
    "        if self.slots[hashvalue] == None:\n",
    "            self.slots[hashvalue] = key\n",
    "            self.slots[hashvalue] = data\n",
    "            \n",
    "        else:\n",
    "            nextslot = self.rehash(hashvalue, len(self.slots))\n",
    "            while self.slots[nextslot] != None and self.slots[nextslot] != key:\n",
    "                nextslot = self.rehash(nextslot, len(self.slots))\n",
    "            if self.slots[nextslot] == None:\n",
    "                self.slots[nextslot] = key\n",
    "                self.data[nextslot] = data\n",
    "            else:\n",
    "                self.data[nextslot] = data\n",
    "                \n",
    "    def hashfunction(self, key, size):\n",
    "        return key%size\n",
    "    \n",
    "    def rehash(self, oldlash, size):\n",
    "        return (oldlash+1)%size\n",
    "    \n",
    "    def get(self, key):\n",
    "        startslot = self.hashfunction(key, len(self.slots))\n",
    "        data = None\n",
    "        stop = False\n",
    "        found = False\n",
    "        position = startslot\n",
    "        \n",
    "        while self.slots[position] != None and not found and not stop:\n",
    "            if self.slots[position] == key:\n",
    "                found = True\n",
    "                data = self.data[position]\n",
    "            else:\n",
    "                position = self.rehash(position, len(self.slots))\n",
    "                if position == startslot:\n",
    "                    stop = True\n",
    "        return data\n",
    "    \n",
    "    # nice to have dunder methods:\n",
    "    def __getitem__(self, key):\n",
    "        return self.get(key)\n",
    "    \n",
    "    def __setitem__(self, key, data):\n",
    "        self.put(key, data)\n",
    "        "
   ]
  },
  {
   "cell_type": "code",
   "execution_count": null,
   "id": "d338486f",
   "metadata": {},
   "outputs": [],
   "source": []
  }
 ],
 "metadata": {
  "kernelspec": {
   "display_name": "Python 3 (ipykernel)",
   "language": "python",
   "name": "python3"
  },
  "language_info": {
   "codemirror_mode": {
    "name": "ipython",
    "version": 3
   },
   "file_extension": ".py",
   "mimetype": "text/x-python",
   "name": "python",
   "nbconvert_exporter": "python",
   "pygments_lexer": "ipython3",
   "version": "3.11.4"
  }
 },
 "nbformat": 4,
 "nbformat_minor": 5
}
